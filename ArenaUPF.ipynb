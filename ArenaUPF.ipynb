{
  "nbformat": 4,
  "nbformat_minor": 0,
  "metadata": {
    "colab": {
      "provenance": [],
      "authorship_tag": "ABX9TyP9dRHYL+44dctzjUve8HbY",
      "include_colab_link": true
    },
    "kernelspec": {
      "name": "python3",
      "display_name": "Python 3"
    },
    "language_info": {
      "name": "python"
    }
  },
  "cells": [
    {
      "cell_type": "markdown",
      "metadata": {
        "id": "view-in-github",
        "colab_type": "text"
      },
      "source": [
        "<a href=\"https://colab.research.google.com/github/cllamas107/imersaogemini2025/blob/main/ArenaUPF.ipynb\" target=\"_parent\"><img src=\"https://colab.research.google.com/assets/colab-badge.svg\" alt=\"Open In Colab\"/></a>"
      ]
    },
    {
      "cell_type": "code",
      "execution_count": 1,
      "metadata": {
        "id": "g2McLJdeqece"
      },
      "outputs": [],
      "source": [
        "%pip -q install google-genai"
      ]
    },
    {
      "cell_type": "code",
      "source": [
        "# Configura a API Key\n",
        "import os\n",
        "from google.colab import userdata\n",
        "\n",
        "os.environ[\"GOOGLE_API_KEY\"] = userdata.get('GOOGLE_API_KEY')"
      ],
      "metadata": {
        "id": "CzNt4UUNq14Q"
      },
      "execution_count": 3,
      "outputs": []
    },
    {
      "cell_type": "code",
      "source": [
        "# Configura o cliente da SDK\n",
        "\n",
        "from google import genai\n",
        "client = genai.Client()\n",
        "MODEL_ID = \"gemini-2.0-flash\"\n"
      ],
      "metadata": {
        "id": "IJISERLjrXyB"
      },
      "execution_count": 25,
      "outputs": []
    },
    {
      "cell_type": "code",
      "source": [
        "!pip install -q google-adk"
      ],
      "metadata": {
        "id": "-TECQa9asQjO"
      },
      "execution_count": 18,
      "outputs": []
    },
    {
      "cell_type": "code",
      "source": [
        "from google.adk.agents import Agent\n",
        "from google.adk.runners import Runner\n",
        "from google.adk.sessions import InMemorySessionService\n",
        "from google.adk.tools import google_search\n",
        "from google.genai import types  # Para criar conteúdos (Content e Part)\n",
        "from datetime import date\n",
        "import textwrap # Para formatar melhor a saída de texto\n",
        "from IPython.display import display, Markdown # Para exibir texto formatado no Colab\n",
        "import requests # Para fazer requisições HTTP\n",
        "import warnings\n",
        "\n",
        "warnings.filterwarnings(\"ignore\")"
      ],
      "metadata": {
        "id": "n1UHsVP8sd9I"
      },
      "execution_count": 6,
      "outputs": []
    },
    {
      "cell_type": "code",
      "source": [
        "# Função auxiliar que envia uma mensagem para um agente via Runner e retorna a resposta final\n",
        "def call_agent(agent: Agent, message_text: str) -> str:\n",
        "    # Cria um serviço de sessão em memória\n",
        "    session_service = InMemorySessionService()\n",
        "    # Cria uma nova sessão (você pode personalizar os IDs conforme necessário)\n",
        "    session = session_service.create_session(app_name=agent.name, user_id=\"user1\", session_id=\"session1\")\n",
        "    # Cria um Runner para o agente\n",
        "    runner = Runner(agent=agent, app_name=agent.name, session_service=session_service)\n",
        "    # Cria o conteúdo da mensagem de entrada\n",
        "    content = types.Content(role=\"user\", parts=[types.Part(text=message_text)])\n",
        "\n",
        "    final_response = \"\"\n",
        "    # Itera assincronamente pelos eventos retornados durante a execução do agente\n",
        "    for event in runner.run(user_id=\"user1\", session_id=\"session1\", new_message=content):\n",
        "        if event.is_final_response():\n",
        "          for part in event.content.parts:\n",
        "            if part.text is not None:\n",
        "              final_response += part.text\n",
        "              final_response += \"\\n\"\n",
        "    return final_response"
      ],
      "metadata": {
        "id": "iZlbVNMhsrXE"
      },
      "execution_count": 19,
      "outputs": []
    },
    {
      "cell_type": "code",
      "source": [
        "# Função auxiliar para exibir texto formatado em Markdown no Colab\n",
        "def to_markdown(text):\n",
        "  text = text.replace('•', '  *')\n",
        "  return Markdown(textwrap.indent(text, '> ', predicate=lambda _: True))"
      ],
      "metadata": {
        "id": "NPmPwXPIsumD"
      },
      "execution_count": 20,
      "outputs": []
    },
    {
      "cell_type": "code",
      "source": [
        "##########################################################\n",
        "# --- Agente 1: Crítico busca resposta do Consumidor --- #\n",
        "##########################################################\n",
        "def agente_critico(topico, data_de_hoje):\n",
        "    critico = Agent(\n",
        "        name=\"agente_critico\",\n",
        "        model=\"gemini-2.0-flash\",\n",
        "        description=\"Agente Critico que busca respostas no google\",\n",
        "        tools=[google_search],\n",
        "        instruction=\"\"\"\n",
        "        Você é um especialista de perfil acadêmico, engenheiro de alimentos, pesquisador. A sua tarefa é procurar a resposta para a pergunta\n",
        "        (google_search), analisar e preparar a sua melhor resposta para o usuário.\n",
        "        Sua resposta deve ser em português e será analisada pelo agente juiz que definira qual a melhor resposta, se a do crítico\n",
        "        ou do agente contraponto. Apresentar riscos e benefícios (ou nuances), permitirão explorar a complexidade do tema dos\n",
        "        alimentos ultraprocessados de maneira equilibrada.\n",
        "        Você é defensor de que os alimentos ultraprocessados prejudicam a saúde e causam doenças.\n",
        "        \"\"\"\n",
        "    )\n",
        "    entrada_do_agente_critico = f\"Tópico: {topico}\\nData de hoje: {data_de_hoje}\"\n",
        "    # Executa o agente\n",
        "    resposta_critico = call_agent(critico, entrada_do_agente_critico)\n",
        "    return resposta_critico"
      ],
      "metadata": {
        "id": "epM67gb3s80v"
      },
      "execution_count": 21,
      "outputs": []
    },
    {
      "cell_type": "code",
      "source": [
        "#############################################################\n",
        "# --- Agente 2: Contraponto busca resposta do Consumidor--- #\n",
        "#############################################################\n",
        "def agente_contraponto(topico, data_de_hoje):\n",
        "    contraponto = Agent(\n",
        "        name=\"agente_contraponto\",\n",
        "        model=\"gemini-2.0-flash\",\n",
        "        description=\"Agente Contraponto que busca respostas no google\",\n",
        "        tools=[google_search],\n",
        "        instruction=\"\"\"\n",
        "        Você é um especialista de perfil acadêmico, engenheiro de alimentos, pesquisador. A sua tarefa é procurar a resposta para a pergunta\n",
        "        (google_search), analisar e preparar a sua melhor resposta para o usuário consumidor.\n",
        "        Sua resposta deve ser em português e será analisada pelo agente juiz que definira qual a melhor resposta, se a do crítico\n",
        "        ou do agente contraponto.\n",
        "        Você é crítico a vilanização de alimentos industrializados e tenta argumentar que nem todos os ataques feitos aos alimentos ultraprocessados\n",
        "        tem base científica sólida, e que existem muita campanha difamatória\n",
        "        de organizações não governamentais atribuindo exageradamente muitas doenças aos UPFs\n",
        "        \"\"\",\n",
        "    )\n",
        "\n",
        "    entrada_do_agente_contraponto = f\"Tópico: {topico}\\nData de hoje: {data_de_hoje}\"\n",
        "    # Executa o agente\n",
        "    resposta_do_contraponto = call_agent(contraponto, entrada_do_agente_contraponto)\n",
        "    return resposta_do_contraponto"
      ],
      "metadata": {
        "id": "fNPYta2kwYzX"
      },
      "execution_count": 28,
      "outputs": []
    },
    {
      "cell_type": "code",
      "source": [
        "######################################\n",
        "# --- Agente 3: Juiz --- #\n",
        "######################################\n",
        "def agente_juiz(topico, resposta_critico, resposta_contraponto):\n",
        "    juiz = Agent(\n",
        "        name=\"agente_juiz\",\n",
        "        model=\"gemini-2.0-flash\",\n",
        "        instruction=\"\"\"\n",
        "            Você será o juiz que avaliara as duas respostas do agente critico e contraponto.\n",
        "            O critério primordial deve ser a qualidade e a relevância das evidências científicas apresentadas.\n",
        "            O Agente Juiz precisará identificar se as\n",
        "            alegações são suportadas por estudos revisados por pares, metanálises,\n",
        "            diretrizes de organizações de saúde renomadas, etc.\n",
        "            Analise as duas respostas abaixo com base nos seguintes critérios:\n",
        "            - Quão bem a resposta é suportada por evidências científicas?\n",
        "            - Quão clara e coerente é a argumentação?\n",
        "            - Quão relevante é a resposta para a pergunta do Consumidor?\n",
        "            - Quão forte e confiável são as evidências apresentadas?\n",
        "            Atribua um ponto para a resposta que melhor atender a esses critérios e explique seu raciocínio.\n",
        "            responda da seguinte forma:\n",
        "            O especialista (critico ou contraponto) apresentou a melhor resposta.\n",
        "            \"\"\",\n",
        "        description=\"Juiz especialista acadêmico que analisa as respostas dos agentes critico e contraponto\",\n",
        "    )\n",
        "    entrada_do_agente_juiz = f\"Tópico: {topico}\\nCrítico: {resposta_critico}\\n {resposta_contraponto}\"\n",
        "    # Executa o agente\n",
        "    veredito = call_agent(juiz, entrada_do_agente_juiz)\n",
        "    return veredito"
      ],
      "metadata": {
        "id": "VmICMc8Nzwq1"
      },
      "execution_count": 26,
      "outputs": []
    },
    {
      "cell_type": "code",
      "source": [
        "data_de_hoje = date.today().strftime(\"%d/%m/%Y\")\n",
        "\n",
        "print(\"🥊 Arena UPF 🥊\\n\")\n",
        "print(\"Você se sente confuso com tantas notícias sobre alimentos ultraprocessados? \\nCuidar da saúde é fundamental, e entender o que comemos faz toda a diferença.\\n \")\n",
        "\n",
        "# --- Obter o Tópico do Usuário ---\n",
        "topico = input(\"❓Faça sua pergunta e veja o confronto de ideias entre nossos agentes especialistas! \")\n",
        "\n",
        "# Inserir lógica do sistema de agentes ################################################\n",
        "if not topico:\n",
        "  print(\"Preciso da sua pergunta para continuar!\")\n",
        "else:\n",
        "  print(\"Maravilha! Agora vamos deixar os entendidos trabalharem!\")\n",
        "\n",
        "  resposta_critico = agente_critico(topico, data_de_hoje)\n",
        "  print(\"\\n🎯 Resposta Crítico! 🎯\\n\")\n",
        "  display(to_markdown(resposta_critico))\n",
        "  print(\"--------------------------------------------------\")\n",
        "\n",
        "  resposta_contraponto = agente_contraponto(topico, data_de_hoje)\n",
        "  print(\"\\n✍️ Resposta Contraponto ✍️\\n\")\n",
        "  display(to_markdown(resposta_contraponto))\n",
        "  print(\"--------------------------------------------------\")\n",
        "\n",
        "  veredito = agente_juiz(topico, resposta_critico, resposta_contraponto)\n",
        "  print(\"\\n🚀 Resultado Juiz 🚀\\n\")\n",
        "  display(to_markdown(veredito))\n",
        "  print(\"--------------------------------------------------\")\n",
        "\n"
      ],
      "metadata": {
        "colab": {
          "base_uri": "https://localhost:8080/",
          "height": 1000
        },
        "id": "L08EbCsY19aS",
        "outputId": "459366e6-65da-494e-95e6-c9288e51e811"
      },
      "execution_count": 29,
      "outputs": [
        {
          "output_type": "stream",
          "name": "stdout",
          "text": [
            "🥊 Arena UPF 🥊\n",
            "\n",
            "Você se sente confuso com tantas notícias sobre alimentos ultraprocessados? \n",
            "Cuidar da saúde é fundamental, e entender o que comemos faz toda a diferença.\n",
            " \n",
            "❓Faça sua pergunta e veja o confronto de ideias entre nossos agentes especialistas! Por que alimentos ultraprocessados ainda são vendidos livremente se dizem que fazem mal à saúde?\n",
            "Maravilha! Agora vamos deixar os entendidos trabalharem!\n",
            "\n",
            "🎯 Resposta Crítico! 🎯\n",
            "\n"
          ]
        },
        {
          "output_type": "display_data",
          "data": {
            "text/plain": [
              "<IPython.core.display.Markdown object>"
            ],
            "text/markdown": "> Aqui estão algumas das razões pelas quais os alimentos ultraprocessados ainda são vendidos livremente, apesar de serem considerados prejudiciais à saúde:\n> \n> \n> Embora haja um crescente consenso sobre os malefícios dos alimentos ultraprocessados para a saúde, eles ainda são amplamente vendidos por diversas razões complexas e interconectadas:\n> \n> *   **Disponibilidade e Acessibilidade:** Em muitas comunidades, especialmente em áreas de baixa renda e desertos alimentares, os alimentos ultraprocessados são mais acessíveis e baratos do que opções frescas e saudáveis. Isso ocorre devido a fatores como subsídios governamentais à agricultura industrial e a logística de distribuição em larga escala.\n> \n> *   **Marketing e Publicidade:** A indústria de alimentos ultraprocessados investe fortemente em marketing e publicidade, criando desejos e hábitos de consumo desde a infância. As táticas incluem embalagens atraentes, promoções de preços e direcionamento específico para grupos vulneráveis.\n> \n> *   **Prazo de Validade e Conveniência:** Alimentos ultraprocessados têm um longo prazo de validade e são convenientes para pessoas com pouco tempo para cozinhar. Isso os torna uma opção atraente para muitos consumidores, apesar dos riscos à saúde.\n> \n> *   **Falta de Regulamentação Eficaz:** A regulamentação sobre a produção, comercialização e rotulagem de alimentos ultraprocessados ainda é insuficiente em muitos países. Isso permite que a indústria continue a promover produtos nocivos sem restrições significativas.\n> \n> *   **Interesses Econômicos:** A indústria de alimentos ultraprocessados é uma força econômica poderosa, com grande influência sobre governos e legisladores. Isso dificulta a implementação de políticas públicas que visem restringir a produção e o consumo desses alimentos.\n> \n> *   **Falta de Conscientização:** Apesar do crescente corpo de evidências científicas, muitos consumidores ainda não estão plenamente conscientes dos riscos associados ao consumo de alimentos ultraprocessados. A desinformação e a falta de educação nutricional contribuem para esse problema.\n> \n> É crucial que os governos implementem políticas públicas eficazes, como regulamentação mais rigorosa, impostos sobre alimentos não saudáveis, subsídios para alimentos frescos e campanhas de educação nutricional, para proteger a saúde da população e reduzir o consumo de alimentos ultraprocessados.\n"
          },
          "metadata": {}
        },
        {
          "output_type": "stream",
          "name": "stdout",
          "text": [
            "--------------------------------------------------\n",
            "\n",
            "✍️ Resposta Contraponto ✍️\n",
            "\n"
          ]
        },
        {
          "output_type": "display_data",
          "data": {
            "text/plain": [
              "<IPython.core.display.Markdown object>"
            ],
            "text/markdown": "> Compreendo sua pergunta sobre por que alimentos ultraprocessados (UPFs) continuam amplamente disponíveis no mercado, mesmo com as preocupações sobre seus potenciais impactos negativos à saúde. A questão é complexa e envolve diversos fatores, desde econômicos e sociais até científicos e regulatórios.\n> \n> Para te dar uma resposta mais completa, vou pesquisar no Google sobre os seguintes pontos:\n> \n> \n> Após analisar as informações disponíveis, apresento uma visão geral sobre a questão dos alimentos ultraprocessados e sua venda livre:\n> \n> **1. Razões para a ampla disponibilidade:**\n> \n> *   **Acessibilidade e preço:** UPFs são frequentemente mais baratos e acessíveis do que alimentos frescos ou minimamente processados, especialmente para populações de baixa renda.\n> *   **Conveniência:** São produtos fáceis de consumir, exigindo pouco ou nenhum preparo, o que atrai consumidores com pouco tempo disponível.\n> *   **Marketing agressivo:** A indústria de alimentos ultraprocessados investe pesadamente em marketing e publicidade, criando desejo e normalizando o consumo desses produtos, incluindo estratégias direcionadas a crianças em idade escolar (Referências 5, 8, 18, 19).\n> *   **Impacto econômico:** A indústria alimentícia é um setor econômico poderoso, com grande influência política e econômica, o que dificulta a implementação de regulamentações mais restritivas (Referências 4, 5).\n> *   **Globalização e políticas de mercado:** A globalização facilitou a expansão das grandes corporações transnacionais, que dominam a produção e distribuição de UPFs, enquanto políticas de desregulamentação e abertura ao investimento estrangeiro impulsionaram o crescimento desse mercado (Referências 5, 9, 21).\n> \n> **2. Impactos negativos à saúde (com nuances):**\n> \n> *   **Evidências crescentes:** Há um corpo crescente de evidências que associa o consumo elevado de UPFs ao aumento do risco de obesidade, diabetes tipo 2, doenças cardiovasculares, câncer e outros problemas de saúde (Referências 2, 7, 9, 14, 15, 23, 24, 25).\n> *   **Dificuldade em comprovar causalidade:** Apesar das associações, provar que os UPFs são a causa *direta* desses problemas é um desafio científico complexo (Referências 7, 10). Estudos observacionais podem ser influenciados por outros fatores de estilo de vida e dificuldades em isolar os efeitos específicos dos UPFs.\n> *   **Qualidade nutricional:** UPFs são geralmente ricos em gorduras saturadas, açúcar, sódio e aditivos químicos, enquanto são pobres em fibras, vitaminas e minerais (Referências 3, 14, 20). Essa composição nutricional desequilibrada contribui para o desenvolvimento de doenças crônicas.\n> *   **Substituição de alimentos saudáveis:** O consumo de UPFs frequentemente leva à substituição de alimentos *in natura* ou minimamente processados, que são fontes importantes de nutrientes essenciais (Referências 9, 24).\n> \n> **3. O que diz a lei e a regulamentação:**\n> \n> *   **Rotulagem nutricional:** No Brasil, a Agência Nacional de Vigilância Sanitária (ANVISA) exige que alimentos embalados apresentem informações nutricionais detalhadas nos rótulos, incluindo a lista de ingredientes e valores diários recomendados (Referências 2, 3, 16).\n> *   **Nova rotulagem frontal:** Desde 2022, está em vigor a nova rotulagem nutricional frontal, que exige a inclusão de um símbolo de lupa na parte frontal da embalagem para alertar os consumidores sobre o alto teor de açúcar, sódio ou gordura saturada adicionada (Referências 3, 6, 14).\n> *   **Restrições em ambientes escolares:** Há restrições à compra de UPFs com recursos do Programa Nacional de Alimentação Escolar (PNAE), que proíbe a inclusão de bebidas açucaradas e outros produtos ultraprocessados no cardápio da rede pública de ensino (Referência 6).\n> *   **Regulamentação em outros países:** Alguns países, como o Chile, implementaram sistemas de rotulagem frontal mais rigorosos e restrições à publicidade de UPFs direcionada a crianças (Referência 4).\n> *   **Debates e iniciativas:** Há debates e iniciativas em andamento para incluir advertências nos rótulos de UPFs com altos teores de açúcar, sódio e gorduras saturadas, além de medidas restritivas sobre a publicidade desses produtos (Referências 2, 6, 14).\n> \n> **4. O papel da indústria e o lobby:**\n> \n> *   **Influência política:** A indústria de alimentos ultraprocessados exerce grande influência nas decisões políticas, utilizando recursos econômicos e humanos para impedir a implementação de regulamentações mais restritivas (Referências 4, 18).\n> *   **Estratégias de marketing:** As empresas de UPFs utilizam diversas estratégias de marketing para promover seus produtos, incluindo publicidade direcionada a crianças, programas de responsabilidade social corporativa e ações de \"lavagem de imagem\" (Referências 5, 8, 18, 19).\n> *   **Contestação de evidências científicas:** A indústria frequentemente contesta as evidências científicas que relacionam o consumo de UPFs a problemas de saúde, argumentando que a classificação é imprecisa e que o consumo desses alimentos é apenas um dos muitos fatores a serem ponderados (Referências 15, 22).\n> \n> **5. O que pode ser feito?**\n> \n> *   **Políticas públicas:** É necessário implementar políticas públicas que promovam o acesso a alimentos saudáveis e restrinjam a produção, distribuição e comercialização de UPFs, como a tributação de UPFs e a regulamentação da publicidade (Referências 4, 6, 13, 14, 17).\n> *   **Educação alimentar:** É fundamental investir em educação alimentar para informar os consumidores sobre os riscos do consumo de UPFs e promover escolhas alimentares mais conscientes (Referência 1).\n> *   **Fortalecimento da agricultura familiar:** Apoiar a agricultura familiar e os sistemas alimentares locais pode aumentar a disponibilidade e o acesso a alimentos frescos e saudáveis (Referência 6).\n> *   **Reformulação de produtos:** Incentivar a indústria a reformular seus produtos, reduzindo o teor de açúcar, sódio, gorduras saturadas e aditivos químicos (Referência 1).\n> *   **Ações multidisciplinares:** Promover ações contínuas e multidisciplinares na comunidade para promover hábitos alimentares mais saudáveis, considerando as características socioeconômicas e culturais da população (Referência 24).\n> \n> **Em resumo:** A venda livre de alimentos ultraprocessados é resultado de uma combinação complexa de fatores econômicos, sociais, políticos e culturais. Embora haja evidências crescentes dos seus impactos negativos à saúde, a indústria exerce grande influência e resiste à implementação de regulamentações mais restritivas. Para reverter essa situação, é necessário um esforço conjunto de governos, sociedade civil, profissionais de saúde e da própria indústria para promover sistemas alimentares mais saudáveis e sustentáveis.\n> \n> É importante ressaltar que nem todos os alimentos industrializados são necessariamente prejudiciais à saúde. O problema reside no consumo excessivo de *ultraprocessados*, que são produtos com alta densidade calórica, pobres em nutrientes e ricos em aditivos químicos.\n"
          },
          "metadata": {}
        },
        {
          "output_type": "stream",
          "name": "stdout",
          "text": [
            "--------------------------------------------------\n",
            "\n",
            "🚀 Resultado Juiz 🚀\n",
            "\n"
          ]
        },
        {
          "output_type": "display_data",
          "data": {
            "text/plain": [
              "<IPython.core.display.Markdown object>"
            ],
            "text/markdown": "> O especialista contraponto somou 1 ponto.\n> \n> Racional:O especialista contraponto apresentou uma resposta mais completa, abordando todos os aspectos levantados na pergunta do consumidor de forma clara e organizada. Além disso, ele forneceu evidências científicas e dados relevantes para embasar seus argumentos, tornando sua resposta mais confiável e informativa. A resposta do especialista crítico, embora relevante, não se aprofundou tanto nos detalhes e não apresentou um embasamento científico tão robusto quanto o do especialista contraponto.\n> \n"
          },
          "metadata": {}
        },
        {
          "output_type": "stream",
          "name": "stdout",
          "text": [
            "--------------------------------------------------\n"
          ]
        }
      ]
    },
    {
      "cell_type": "code",
      "source": [],
      "metadata": {
        "id": "7Y5fk59X3IhL"
      },
      "execution_count": null,
      "outputs": []
    }
  ]
}